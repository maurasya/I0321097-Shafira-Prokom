{
 "cells": [
  {
   "cell_type": "markdown",
   "metadata": {},
   "source": [
    "# Exercise 09  \n",
    "### OPERASI MATRIKS  \n",
    "Silahkan lengkapi kode yang rumpang sesuai perintah yang diberikan.\n"
   ]
  },
  {
   "cell_type": "markdown",
   "metadata": {},
   "source": [
    "![](./image/1.png)"
   ]
  },
  {
   "cell_type": "code",
   "execution_count": 5,
   "metadata": {},
   "outputs": [],
   "source": [
    "A = [[101,101],\n",
    "     [101,101]]\n",
    "\n",
    "B = [[93, 93],\n",
    "     [93, 93]]\n"
   ]
  },
  {
   "cell_type": "markdown",
   "metadata": {},
   "source": [
    "Buatlah matriks menggunakan metode perulangan for dengan ketentuan sebagai berikut:\n",
    "* Matriks A berisi angka sebesar 4 setelah nim kalian. (ex: nim = 12, nilai matriks [16, 16],[16,16])\n",
    "* Matriks B berisi angka sebesar 4 sebelum nim kalian. (ex: nim = 12, nilai matriks [8, 8],[8,8])\n"
   ]
  },
  {
   "cell_type": "code",
   "execution_count": 6,
   "metadata": {},
   "outputs": [
    {
     "name": "stdout",
     "output_type": "stream",
     "text": [
      "[[101, 101], [101, 101]]\n",
      "[[93, 93], [93, 93]]\n",
      "\n",
      "[[101, 101], [101, 101]]\n",
      "[[93, 93], [93, 93]]\n"
     ]
    }
   ],
   "source": [
    "def create(matriks, nim):\n",
    "    for i in range (len(matriks)):\n",
    "        for k in range (len(matriks)):\n",
    "            matriks[i][k] = nim \n",
    "    print(matriks)\n",
    "    \n",
    "create(A, 101)\n",
    "create(B, 93)\n",
    "\n",
    "print()\n",
    "print(A)\n",
    "print(B)"
   ]
  },
  {
   "cell_type": "markdown",
   "metadata": {},
   "source": [
    "## KERJAKAN SOAL BERIKUT\n",
    "1. Buatlah program penjumlahan matriks A dan B.\n",
    "2. Buatlah program pengurangan matriks A dan B.\n",
    "3. Buatlah program perkalian matriks A dan B."
   ]
  },
  {
   "cell_type": "code",
   "execution_count": 9,
   "metadata": {},
   "outputs": [
    {
     "name": "stdout",
     "output_type": "stream",
     "text": [
      "194 194 \n",
      "194 194 \n"
     ]
    }
   ],
   "source": [
    "#SOAL-1\n",
    "#YOUR CODE HERE\n",
    "def penjumlahan(awal, akhir):\n",
    "    for i in range (len(awal)):\n",
    "        for n in range (len(awal)):\n",
    "            print(awal[i][n] + akhir[i][n], end=\" \")\n",
    "        print()\n",
    "\n",
    "penjumlahan(A, B)"
   ]
  },
  {
   "cell_type": "code",
   "execution_count": 10,
   "metadata": {},
   "outputs": [
    {
     "name": "stdout",
     "output_type": "stream",
     "text": [
      "8 8 \n",
      "8 8 \n"
     ]
    }
   ],
   "source": [
    "#SOAL-2\n",
    "#YOUR CODE HERE\n",
    "def pengurangan(awal, akhir):\n",
    "    for i in range (len(awal)):\n",
    "        for n in range (len(awal)):\n",
    "            print(awal[i][n] - akhir[i][n], end=\" \")\n",
    "        print()\n",
    "\n",
    "pengurangan(A, B)"
   ]
  },
  {
   "cell_type": "code",
   "execution_count": 18,
   "metadata": {},
   "outputs": [
    {
     "name": "stdout",
     "output_type": "stream",
     "text": [
      "18786 18786 \n",
      "18786 18786 \n"
     ]
    }
   ],
   "source": [
    "#SOAL-3\n",
    "#YOUR CODE HERE\n",
    "def perkalian(awal, akhir):\n",
    "    matriks_1 = []\n",
    "    for x in range(len(awal)):\n",
    "        matriks_dummy = []\n",
    "        for y in range(len(awal[0])):\n",
    "            total = 0\n",
    "            for z in range(len(awal[0])):\n",
    "                total = total + awal[x][z] * akhir[z][y]\n",
    "            matriks_dummy.append(total)\n",
    "        matriks_1.append(matriks_dummy)\n",
    "    \n",
    "    #Mengubah matriks yang masih menjadi list ke matriks yang outputnya berupa string\n",
    "    for i in range(len(matriks_1)):\n",
    "        for j in range(len(matriks_1[0])):\n",
    "            print(matriks_1[i][j], end=\" \")\n",
    "        print()\n",
    "\n",
    "perkalian(A, B)"
   ]
  },
  {
   "cell_type": "markdown",
   "metadata": {},
   "source": [
    "### Cara Pengumpulan\n",
    "\n",
    "1. Buka *New Terminal*\n",
    "2. Pastikan *path* Terminal adalah folder repositori kalian (NIM-Nama-Prokom).\n",
    "3. Tambahkan file yang akan ditrack dengan `git add <nama file>`. Nama file bisa diubah . (titik)  `git add .`yang artinya semua file dalam folder akan ditrack.\n",
    "4. Lakukan commit perubahan dengan `git commit -m <deskripsi>`.\n",
    "5. Lakukan push dengan `git push -u origin <nama branch>`. Nama branch dapat diketahui dengan `git branch`.\n",
    "6. Pastikan Exercise-02 telah terupload dan dapat diakses di repositori dengan mengaksesnya di browser."
   ]
  }
 ],
 "metadata": {
  "interpreter": {
   "hash": "ac59ebe37160ed0dfa835113d9b8498d9f09ceb179beaac4002f036b9467c963"
  },
  "kernelspec": {
   "display_name": "Python 3 (ipykernel)",
   "language": "python",
   "name": "python3"
  },
  "language_info": {
   "codemirror_mode": {
    "name": "ipython",
    "version": 3
   },
   "file_extension": ".py",
   "mimetype": "text/x-python",
   "name": "python",
   "nbconvert_exporter": "python",
   "pygments_lexer": "ipython3",
   "version": "3.10.4"
  },
  "orig_nbformat": 4
 },
 "nbformat": 4,
 "nbformat_minor": 2
}
