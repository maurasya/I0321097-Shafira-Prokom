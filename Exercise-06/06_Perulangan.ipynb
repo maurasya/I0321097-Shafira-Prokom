{
 "cells": [
  {
   "cell_type": "markdown",
   "metadata": {},
   "source": [
    "***\n",
    "<h1 align=\"center\">Exercise 06</h1>\n",
    " \n",
    "***\n",
    "## While Loop\n",
    "## Exercise 6.1\n",
    "isilah bagian rumpang berikut. xx diganti tanggal lahir dan yy diganti menjadi bulan lahir. tandanya menyesuaikan yang lebih besar."
   ]
  },
  {
   "cell_type": "code",
   "execution_count": 1,
   "metadata": {},
   "outputs": [
    {
     "name": "stdout",
     "output_type": "stream",
     "text": [
      "Always be grateful\n",
      "Always be grateful\n",
      "Always be grateful\n",
      "Always be grateful\n",
      "Always be grateful\n",
      "Always be grateful\n",
      "Always be grateful\n",
      "Always be grateful\n",
      "Always be grateful\n",
      "Always be grateful\n",
      "Always be grateful\n",
      "Always be grateful\n"
     ]
    }
   ],
   "source": [
    "#menentukan banyak pengulangan\n",
    "n = 18\n",
    "\n",
    "#melakukan pengulangan\n",
    "i = 7\n",
    "\n",
    "while i <= n :\n",
    "    print (\"Always be grateful\")\n",
    "    #diisi motto kalian\n",
    "    i = i + 1 # sesuaikan dengan atas agar fungsi perulangan dapat berhenti\n"
   ]
  },
  {
   "cell_type": "markdown",
   "metadata": {},
   "source": [
    "## Exercise 6.2\n",
    "\n",
    "Buatlah code seperti yang dicontohkan pada modul agar user dapat menginputkan sendiri jumlah n yang diinginkan"
   ]
  },
  {
   "cell_type": "code",
   "execution_count": 7,
   "metadata": {},
   "outputs": [
    {
     "name": "stdout",
     "output_type": "stream",
     "text": [
      "5\n",
      "6\n",
      "7\n",
      "8\n",
      "9\n"
     ]
    }
   ],
   "source": [
    "#Kerjakan disini\n",
    "n = int(input(\"input nilai n: \"))\n",
    "i = 5\n",
    "\n",
    "while i <= n:\n",
    "    print (i)\n",
    "    i = i + 1"
   ]
  },
  {
   "cell_type": "markdown",
   "metadata": {},
   "source": [
    "## Excercise 6.3\n",
    "\n",
    "isilah xx, yy, dan tanda rumpang seperti pada exercise 6.1\n"
   ]
  },
  {
   "cell_type": "code",
   "execution_count": 15,
   "metadata": {},
   "outputs": [
    {
     "name": "stdout",
     "output_type": "stream",
     "text": [
      "Baris ke-7 : Now you see me\n",
      "Baris ke-8 : Now you see me\n",
      "Baris ke-9 : Now you see me\n",
      "Baris ke-10 : Now you see me\n",
      "Baris ke-11 : Now you see me\n",
      "Baris ke-12 : Now you see me\n",
      "Baris ke-13 : Now you see me\n",
      "Baris ke-14 : Now you see me\n",
      "Baris ke-15 : Now you see me\n",
      "Baris ke-16 : Now you see me\n",
      "Baris ke-17 : Now you see me\n",
      "Baris ke-18 : Now you see me\n"
     ]
    }
   ],
   "source": [
    "#melakukan pengulangan\n",
    "i = 7\n",
    "\n",
    "while i <= 18 :\n",
    "    print (\"Baris ke-%d : Now you see me\"%i)\n",
    "    #isi titik-titik dengan judul film favorit kalian\n",
    "    i = i + 1 "
   ]
  },
  {
   "cell_type": "markdown",
   "metadata": {},
   "source": [
    "## FOR LOOP\n",
    "\n",
    "## Exercise 6.4\n",
    "\n",
    "munculkan 3 dari 7 elemen yang berada di dalam list1 dan list2\n"
   ]
  },
  {
   "cell_type": "code",
   "execution_count": 18,
   "metadata": {},
   "outputs": [
    {
     "name": "stdout",
     "output_type": "stream",
     "text": [
      "2 Pecel lele Malang\n",
      "3 Usus Bandung\n",
      "4 Bakwan Malang Tangerang Selatan\n"
     ]
    }
   ],
   "source": [
    "list1 = [\"Ayam Kremes\", \"Pecel lele\", \"Usus\", \"Bakwan Malang\", \"Kentang Goreng\", \"Keju\", \"Indomie\"] #masukkan 7 list makanan favorit kalian\n",
    "list2 = [\"Jakarta\", \"Malang\", \"Bandung\", \"Tangerang Selatan\", \"Bogor\", \"Solo\", \"Kediri\"] #masukkan 7 list kota favorit kalian\n",
    "\n",
    "for i in range(1,4) :\n",
    "    print(i+1, list1[i] , list2[i])"
   ]
  },
  {
   "cell_type": "markdown",
   "metadata": {},
   "source": [
    "## Perulangan Bersarang\n",
    "\n",
    "## Exercise 6.5"
   ]
  },
  {
   "cell_type": "code",
   "execution_count": 27,
   "metadata": {},
   "outputs": [
    {
     "name": "stdout",
     "output_type": "stream",
     "text": [
      "324 \n",
      "\n",
      "\n",
      "\n",
      "\n",
      "\n",
      "\n",
      "\n",
      "\n",
      "\n",
      "\n",
      "\n"
     ]
    }
   ],
   "source": [
    "i = 18\n",
    "while i >= 7:\n",
    "    j = 18\n",
    "    while j <= i:\n",
    "        print(\"%d \" % (i*j), end = '')\n",
    "        j = j + 1\n",
    "    print()\n",
    "    i-=1"
   ]
  },
  {
   "cell_type": "markdown",
   "metadata": {},
   "source": [
    "## Pernyataan Loncat\n",
    "\n",
    "## Exercise 6.\n",
    "\n",
    "Buatlah fungsi berikut agar muncul angka hingga berhenti sesuai dengan nilai qq\n",
    "qq = angka favorit kalian\n",
    "pp>qq"
   ]
  },
  {
   "cell_type": "code",
   "execution_count": 28,
   "metadata": {},
   "outputs": [
    {
     "name": "stdout",
     "output_type": "stream",
     "text": [
      "01234567891011121314151617"
     ]
    }
   ],
   "source": [
    "for i in range(18):\n",
    "    print(i,end='')\n",
    "    if i == 10:\n",
    "        ___"
   ]
  },
  {
   "cell_type": "markdown",
   "metadata": {},
   "source": [
    "***\n",
    "<h1 align=\"center\">WELL DONE</h1>\n",
    " \n",
    "***"
   ]
  }
 ],
 "metadata": {
  "interpreter": {
   "hash": "cd08f94adcf3cbae37fe85286256f4c2a10455ca9094fd053e9f3d3f09647223"
  },
  "kernelspec": {
   "display_name": "Python 3.9.7 64-bit",
   "language": "python",
   "name": "python3"
  },
  "language_info": {
   "codemirror_mode": {
    "name": "ipython",
    "version": 3
   },
   "file_extension": ".py",
   "mimetype": "text/x-python",
   "name": "python",
   "nbconvert_exporter": "python",
   "pygments_lexer": "ipython3",
   "version": "3.10.4"
  },
  "orig_nbformat": 4
 },
 "nbformat": 4,
 "nbformat_minor": 2
}
